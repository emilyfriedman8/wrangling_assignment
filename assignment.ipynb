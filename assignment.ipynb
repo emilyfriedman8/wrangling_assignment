{
  "cells": [
    {
      "cell_type": "markdown",
      "id": "13ad028b-72b7-43ed-aa78-96fd4e518040",
      "metadata": {
        "id": "13ad028b-72b7-43ed-aa78-96fd4e518040"
      },
      "source": [
        "# Assignment: Data Wrangling\n",
        "### `! git clone https://github.com/ds3001f25/wrangling_assignment.git`\n",
        "### Do Q1 and Q2\n",
        "### Reading material: `tidy_data.pdf`"
      ]
    },
    {
      "cell_type": "markdown",
      "id": "da879ea7-8aac-48a3-b6c2-daea56d2e072",
      "metadata": {
        "id": "da879ea7-8aac-48a3-b6c2-daea56d2e072"
      },
      "source": [
        "**Q1.** This question provides some practice cleaning variables which have common problems.\n",
        "1. Numeric variable: For `./data/airbnb_hw.csv`, clean the `Price` variable as well as you can, and explain the choices you make. How many missing values do you end up with? (Hint: What happens to the formatting when a price goes over 999 dollars, say from 675 to 1,112?)\n",
        "2. Categorical variable: For the Minnesota police use of for data, `./data/mn_police_use_of_force.csv`, clean the `subject_injury` variable, handling the NA's; this gives a value `Yes` when a person was injured by police, and `No` when no injury occurred. What proportion of the values are missing? Is this a concern? Cross-tabulate your cleaned `subject_injury` variable with the `force_type` variable. Are there any patterns regarding when the data are missing?\n",
        "3. Dummy variable: For the pretrial data covered in the lecture `./data/justice_data.parquet`, clean the `WhetherDefendantWasReleasedPretrial` variable as well as you can, and, in particular, replace missing values with `np.nan`.\n",
        "4. Missing values, not at random: For the pretrial data covered in the lecture, clean the `ImposedSentenceAllChargeInContactEvent` variable as well as you can, and explain the choices you make. (Hint: Look at the `SentenceTypeAllChargesAtConvictionInContactEvent` variable.)"
      ]
    },
    {
      "cell_type": "code",
      "execution_count": 38,
      "id": "9d412a8d",
      "metadata": {
        "colab": {
          "base_uri": "https://localhost:8080/"
        },
        "id": "9d412a8d",
        "outputId": "d771fe4c-a3cd-4856-85e7-e16b759e146e"
      },
      "outputs": [
        {
          "output_type": "stream",
          "name": "stdout",
          "text": [
            "Missing values in Price: 0\n",
            "int64\n"
          ]
        }
      ],
      "source": [
        "#question 1\n",
        "import numpy as np\n",
        "import matplotlib.pyplot as plt\n",
        "import pandas as pd\n",
        "\n",
        "#load data\n",
        "df = pd.read_csv('/content/airbnb_hw.csv',low_memory=False)\n",
        "df.head()\n",
        "df.tail()\n",
        "\n",
        "#clean up the price variable\n",
        "var = \"Price\"\n",
        "df[var] = df[var].str.replace(\",\", \"\")      # remove commas\n",
        "df[var] = pd.to_numeric(df[var], errors=\"coerce\") # convert to numbers\n",
        "\n",
        "# check missing values\n",
        "missing = df[var].isna().sum()\n",
        "print(f\"Missing values in {var}: {missing}\")\n",
        "print(df[\"Price\"].dtype)\n",
        "#end up with zero missing values\n"
      ]
    },
    {
      "cell_type": "code",
      "source": [
        "#question 2\n",
        "import numpy as np\n",
        "import matplotlib.pyplot as plt\n",
        "import pandas as pd\n",
        "\n",
        "#load data\n",
        "df = pd.read_csv(\"/content/mn_police_use_of_force.csv\", low_memory=False)\n",
        "df.head()\n",
        "df.tail()\n",
        "\n",
        "\n",
        "#Look at the raw values\n",
        "var = \"subject_injury\"\n",
        "print(df[var].unique(), '\\n')   # see what categories are there\n",
        "\n",
        "#Count each category\n",
        "df[var].value_counts(dropna=False)\n",
        "\n",
        "#Proportion missing\n",
        "missing_count = 9848\n",
        "total = 12925\n",
        "prop_missing = missing_count / total\n",
        "print(f\"{prop_missing:.2%}\")\n",
        "# This is concerning becayse a majority of observations don't record\n",
        "# whether the subject was injured. This makes the variable highly incomplete.\n",
        "\n",
        "#cross tabulate\n",
        "ct = pd.crosstab(df[\"subject_injury\"], df[\"force_type\"], dropna=False)\n",
        "print(ct)\n",
        "# A cross-tabulation of subject_injury with force_type shows that most missing\n",
        "# values occur in incidents coded as Bodily Force and Chemical Irritant, while\n",
        "# categories like Police K9 Bite and Taser tend to have injury outcomes more\n",
        "#consistently recorded. In fact, for some force types (Maximal Restraint Technique),\n",
        "# all injury outcomes are missing.\n",
        "#This pattern indicates that nan likely reflects differences in reporting\n",
        "#practices by force type rather than random omissions. As a result, conclusions\n",
        "#drawn about injuries may underestimate injuries for certain categories of force.\n",
        "\n"
      ],
      "metadata": {
        "colab": {
          "base_uri": "https://localhost:8080/"
        },
        "id": "yHiIHYE7qeMg",
        "outputId": "9a457065-d5ec-4f11-f418-d7b55ae1a44a"
      },
      "id": "yHiIHYE7qeMg",
      "execution_count": 45,
      "outputs": [
        {
          "output_type": "stream",
          "name": "stdout",
          "text": [
            "[nan 'No' 'Yes'] \n",
            "\n",
            "76.19%\n",
            "force_type      Baton  Bodily Force  Chemical Irritant  Firearm  \\\n",
            "subject_injury                                                    \n",
            "No                  0          1093                131        2   \n",
            "Yes                 2          1286                 41        0   \n",
            "NaN                 2          7051               1421        0   \n",
            "\n",
            "force_type      Gun Point Display  Improvised Weapon  Less Lethal  \\\n",
            "subject_injury                                                      \n",
            "No                             33                 34            0   \n",
            "Yes                            44                 40            0   \n",
            "NaN                            27                 74           87   \n",
            "\n",
            "force_type      Less Lethal Projectile  Maximal Restraint Technique  \\\n",
            "subject_injury                                                        \n",
            "No                                   1                            0   \n",
            "Yes                                  2                            0   \n",
            "NaN                                  0                          170   \n",
            "\n",
            "force_type      Police K9 Bite  Taser  \n",
            "subject_injury                         \n",
            "No                           2    150  \n",
            "Yes                         44    172  \n",
            "NaN                         31    985  \n"
          ]
        }
      ]
    },
    {
      "cell_type": "markdown",
      "id": "5a60a44e",
      "metadata": {
        "id": "5a60a44e"
      },
      "source": [
        "**Q2.** Go to https://sharkattackfile.net/ and download their dataset on shark attacks (Hint: `GSAF5.xls`).\n",
        "\n",
        "1. Open the shark attack file using Pandas. It is probably not a csv file, so `read_csv` won't work.\n",
        "2. Drop any columns that do not contain data.\n",
        "3. Clean the year variable. Describe the range of values you see. Filter the rows to focus on attacks since 1940. Are attacks increasing, decreasing, or remaining constant over time?\n",
        "4. Clean the Age variable and make a histogram of the ages of the victims.\n",
        "5. What proportion of victims are male?\n",
        "6. Clean the `Type` variable so it only takes three values: Provoked and Unprovoked and Unknown. What proportion of attacks are unprovoked?\n",
        "7. Clean the `Fatal Y/N` variable so it only takes three values: Y, N, and Unknown.\n",
        "8. Are sharks more likely to launch unprovoked attacks on men or women? Is the attack more or less likely to be fatal when the attack is provoked or unprovoked? Is it more or less likely to be fatal when the victim is male or female? How do you feel about sharks?\n",
        "9. What proportion of attacks appear to be by white sharks? (Hint: `str.split()` makes a vector of text values into a list of lists, split by spaces.)"
      ]
    },
    {
      "cell_type": "code",
      "execution_count": null,
      "id": "a3f03830",
      "metadata": {
        "id": "a3f03830"
      },
      "outputs": [],
      "source": []
    }
  ],
  "metadata": {
    "colab": {
      "provenance": []
    },
    "kernelspec": {
      "display_name": "Python 3 (ipykernel)",
      "language": "python",
      "name": "python3"
    },
    "language_info": {
      "codemirror_mode": {
        "name": "ipython",
        "version": 3
      },
      "file_extension": ".py",
      "mimetype": "text/x-python",
      "name": "python",
      "nbconvert_exporter": "python",
      "pygments_lexer": "ipython3",
      "version": "3.10.18"
    }
  },
  "nbformat": 4,
  "nbformat_minor": 5
}
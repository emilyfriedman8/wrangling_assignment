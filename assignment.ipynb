{
  "cells": [
    {
      "cell_type": "markdown",
      "id": "13ad028b-72b7-43ed-aa78-96fd4e518040",
      "metadata": {
        "id": "13ad028b-72b7-43ed-aa78-96fd4e518040"
      },
      "source": [
        "# Assignment: Data Wrangling\n",
        "### `! git clone https://github.com/ds3001f25/wrangling_assignment.git`\n",
        "### Do Q1 and Q2\n",
        "### Reading material: `tidy_data.pdf`"
      ]
    },
    {
      "cell_type": "markdown",
      "id": "da879ea7-8aac-48a3-b6c2-daea56d2e072",
      "metadata": {
        "id": "da879ea7-8aac-48a3-b6c2-daea56d2e072"
      },
      "source": [
        "**Q1.** This question provides some practice cleaning variables which have common problems.\n",
        "1. Numeric variable: For `./data/airbnb_hw.csv`, clean the `Price` variable as well as you can, and explain the choices you make. How many missing values do you end up with? (Hint: What happens to the formatting when a price goes over 999 dollars, say from 675 to 1,112?)\n",
        "2. Categorical variable: For the Minnesota police use of for data, `./data/mn_police_use_of_force.csv`, clean the `subject_injury` variable, handling the NA's; this gives a value `Yes` when a person was injured by police, and `No` when no injury occurred. What proportion of the values are missing? Is this a concern? Cross-tabulate your cleaned `subject_injury` variable with the `force_type` variable. Are there any patterns regarding when the data are missing?\n",
        "3. Dummy variable: For the pretrial data covered in the lecture `./data/justice_data.parquet`, clean the `WhetherDefendantWasReleasedPretrial` variable as well as you can, and, in particular, replace missing values with `np.nan`.\n",
        "4. Missing values, not at random: For the pretrial data covered in the lecture, clean the `ImposedSentenceAllChargeInContactEvent` variable as well as you can, and explain the choices you make. (Hint: Look at the `SentenceTypeAllChargesAtConvictionInContactEvent` variable.)"
      ]
    },
    {
      "cell_type": "code",
      "source": [
        "from google.colab import files\n",
        "uploaded = files.upload()"
      ],
      "metadata": {
        "colab": {
          "base_uri": "https://localhost:8080/",
          "height": 144
        },
        "id": "JlXcoVgwca2q",
        "outputId": "46897e73-76e3-4235-dd6b-a15a942f4d46"
      },
      "id": "JlXcoVgwca2q",
      "execution_count": null,
      "outputs": [
        {
          "output_type": "display_data",
          "data": {
            "text/plain": [
              "<IPython.core.display.HTML object>"
            ],
            "text/html": [
              "\n",
              "     <input type=\"file\" id=\"files-77d8f216-1c91-48ce-a195-73c7d2a5c428\" name=\"files[]\" multiple disabled\n",
              "        style=\"border:none\" />\n",
              "     <output id=\"result-77d8f216-1c91-48ce-a195-73c7d2a5c428\">\n",
              "      Upload widget is only available when the cell has been executed in the\n",
              "      current browser session. Please rerun this cell to enable.\n",
              "      </output>\n",
              "      <script>// Copyright 2017 Google LLC\n",
              "//\n",
              "// Licensed under the Apache License, Version 2.0 (the \"License\");\n",
              "// you may not use this file except in compliance with the License.\n",
              "// You may obtain a copy of the License at\n",
              "//\n",
              "//      http://www.apache.org/licenses/LICENSE-2.0\n",
              "//\n",
              "// Unless required by applicable law or agreed to in writing, software\n",
              "// distributed under the License is distributed on an \"AS IS\" BASIS,\n",
              "// WITHOUT WARRANTIES OR CONDITIONS OF ANY KIND, either express or implied.\n",
              "// See the License for the specific language governing permissions and\n",
              "// limitations under the License.\n",
              "\n",
              "/**\n",
              " * @fileoverview Helpers for google.colab Python module.\n",
              " */\n",
              "(function(scope) {\n",
              "function span(text, styleAttributes = {}) {\n",
              "  const element = document.createElement('span');\n",
              "  element.textContent = text;\n",
              "  for (const key of Object.keys(styleAttributes)) {\n",
              "    element.style[key] = styleAttributes[key];\n",
              "  }\n",
              "  return element;\n",
              "}\n",
              "\n",
              "// Max number of bytes which will be uploaded at a time.\n",
              "const MAX_PAYLOAD_SIZE = 100 * 1024;\n",
              "\n",
              "function _uploadFiles(inputId, outputId) {\n",
              "  const steps = uploadFilesStep(inputId, outputId);\n",
              "  const outputElement = document.getElementById(outputId);\n",
              "  // Cache steps on the outputElement to make it available for the next call\n",
              "  // to uploadFilesContinue from Python.\n",
              "  outputElement.steps = steps;\n",
              "\n",
              "  return _uploadFilesContinue(outputId);\n",
              "}\n",
              "\n",
              "// This is roughly an async generator (not supported in the browser yet),\n",
              "// where there are multiple asynchronous steps and the Python side is going\n",
              "// to poll for completion of each step.\n",
              "// This uses a Promise to block the python side on completion of each step,\n",
              "// then passes the result of the previous step as the input to the next step.\n",
              "function _uploadFilesContinue(outputId) {\n",
              "  const outputElement = document.getElementById(outputId);\n",
              "  const steps = outputElement.steps;\n",
              "\n",
              "  const next = steps.next(outputElement.lastPromiseValue);\n",
              "  return Promise.resolve(next.value.promise).then((value) => {\n",
              "    // Cache the last promise value to make it available to the next\n",
              "    // step of the generator.\n",
              "    outputElement.lastPromiseValue = value;\n",
              "    return next.value.response;\n",
              "  });\n",
              "}\n",
              "\n",
              "/**\n",
              " * Generator function which is called between each async step of the upload\n",
              " * process.\n",
              " * @param {string} inputId Element ID of the input file picker element.\n",
              " * @param {string} outputId Element ID of the output display.\n",
              " * @return {!Iterable<!Object>} Iterable of next steps.\n",
              " */\n",
              "function* uploadFilesStep(inputId, outputId) {\n",
              "  const inputElement = document.getElementById(inputId);\n",
              "  inputElement.disabled = false;\n",
              "\n",
              "  const outputElement = document.getElementById(outputId);\n",
              "  outputElement.innerHTML = '';\n",
              "\n",
              "  const pickedPromise = new Promise((resolve) => {\n",
              "    inputElement.addEventListener('change', (e) => {\n",
              "      resolve(e.target.files);\n",
              "    });\n",
              "  });\n",
              "\n",
              "  const cancel = document.createElement('button');\n",
              "  inputElement.parentElement.appendChild(cancel);\n",
              "  cancel.textContent = 'Cancel upload';\n",
              "  const cancelPromise = new Promise((resolve) => {\n",
              "    cancel.onclick = () => {\n",
              "      resolve(null);\n",
              "    };\n",
              "  });\n",
              "\n",
              "  // Wait for the user to pick the files.\n",
              "  const files = yield {\n",
              "    promise: Promise.race([pickedPromise, cancelPromise]),\n",
              "    response: {\n",
              "      action: 'starting',\n",
              "    }\n",
              "  };\n",
              "\n",
              "  cancel.remove();\n",
              "\n",
              "  // Disable the input element since further picks are not allowed.\n",
              "  inputElement.disabled = true;\n",
              "\n",
              "  if (!files) {\n",
              "    return {\n",
              "      response: {\n",
              "        action: 'complete',\n",
              "      }\n",
              "    };\n",
              "  }\n",
              "\n",
              "  for (const file of files) {\n",
              "    const li = document.createElement('li');\n",
              "    li.append(span(file.name, {fontWeight: 'bold'}));\n",
              "    li.append(span(\n",
              "        `(${file.type || 'n/a'}) - ${file.size} bytes, ` +\n",
              "        `last modified: ${\n",
              "            file.lastModifiedDate ? file.lastModifiedDate.toLocaleDateString() :\n",
              "                                    'n/a'} - `));\n",
              "    const percent = span('0% done');\n",
              "    li.appendChild(percent);\n",
              "\n",
              "    outputElement.appendChild(li);\n",
              "\n",
              "    const fileDataPromise = new Promise((resolve) => {\n",
              "      const reader = new FileReader();\n",
              "      reader.onload = (e) => {\n",
              "        resolve(e.target.result);\n",
              "      };\n",
              "      reader.readAsArrayBuffer(file);\n",
              "    });\n",
              "    // Wait for the data to be ready.\n",
              "    let fileData = yield {\n",
              "      promise: fileDataPromise,\n",
              "      response: {\n",
              "        action: 'continue',\n",
              "      }\n",
              "    };\n",
              "\n",
              "    // Use a chunked sending to avoid message size limits. See b/62115660.\n",
              "    let position = 0;\n",
              "    do {\n",
              "      const length = Math.min(fileData.byteLength - position, MAX_PAYLOAD_SIZE);\n",
              "      const chunk = new Uint8Array(fileData, position, length);\n",
              "      position += length;\n",
              "\n",
              "      const base64 = btoa(String.fromCharCode.apply(null, chunk));\n",
              "      yield {\n",
              "        response: {\n",
              "          action: 'append',\n",
              "          file: file.name,\n",
              "          data: base64,\n",
              "        },\n",
              "      };\n",
              "\n",
              "      let percentDone = fileData.byteLength === 0 ?\n",
              "          100 :\n",
              "          Math.round((position / fileData.byteLength) * 100);\n",
              "      percent.textContent = `${percentDone}% done`;\n",
              "\n",
              "    } while (position < fileData.byteLength);\n",
              "  }\n",
              "\n",
              "  // All done.\n",
              "  yield {\n",
              "    response: {\n",
              "      action: 'complete',\n",
              "    }\n",
              "  };\n",
              "}\n",
              "\n",
              "scope.google = scope.google || {};\n",
              "scope.google.colab = scope.google.colab || {};\n",
              "scope.google.colab._files = {\n",
              "  _uploadFiles,\n",
              "  _uploadFilesContinue,\n",
              "};\n",
              "})(self);\n",
              "</script> "
            ]
          },
          "metadata": {}
        },
        {
          "output_type": "stream",
          "name": "stdout",
          "text": [
            "Saving mn_police_use_of_force.csv to mn_police_use_of_force (1).csv\n",
            "Saving justice_data.parquet to justice_data (1).parquet\n",
            "Saving airbnb_hw.csv to airbnb_hw (1).csv\n"
          ]
        }
      ]
    },
    {
      "cell_type": "code",
      "execution_count": null,
      "id": "9d412a8d",
      "metadata": {
        "colab": {
          "base_uri": "https://localhost:8080/"
        },
        "id": "9d412a8d",
        "outputId": "99c43c3c-310c-4322-caf9-40206ce3a9c8"
      },
      "outputs": [
        {
          "output_type": "stream",
          "name": "stdout",
          "text": [
            "Missing values in Price: 0\n",
            "int64\n"
          ]
        }
      ],
      "source": [
        "#question 1\n",
        "import numpy as np\n",
        "import matplotlib.pyplot as plt\n",
        "import pandas as pd\n",
        "\n",
        "#load data\n",
        "df = pd.read_csv('airbnb_hw.csv',low_memory=False)\n",
        "df.head()\n",
        "df.tail()\n",
        "\n",
        "#clean up the price variable\n",
        "var = \"Price\"\n",
        "df[var] = df[var].str.replace(\",\", \"\")      # remove commas\n",
        "df[var] = pd.to_numeric(df[var], errors=\"coerce\") # convert to numbers\n",
        "\n",
        "# check missing values\n",
        "missing = df[var].isna().sum()\n",
        "print(f\"Missing values in {var}: {missing}\")\n",
        "print(df[\"Price\"].dtype)\n",
        "#end up with zero missing values\n"
      ]
    },
    {
      "cell_type": "code",
      "source": [
        "#question 2\n",
        "import numpy as np\n",
        "import matplotlib.pyplot as plt\n",
        "import pandas as pd\n",
        "\n",
        "#load data\n",
        "# Assuming the file is in the root of your Google Drive.\n",
        "# If it's in a different folder, update the path accordingly.\n",
        "df = pd.read_csv(\"mn_police_use_of_force.csv\", low_memory=False)\n",
        "df.head()\n",
        "df.tail()\n",
        "\n",
        "\n",
        "#Look at the raw values\n",
        "var = \"subject_injury\"\n",
        "print(df[var].unique(), '\\n')   # see what categories are there\n",
        "\n",
        "#Count each category\n",
        "df[var].value_counts(dropna=False)\n",
        "\n",
        "#Proportion missing\n",
        "missing_count = 9848\n",
        "total = 12925\n",
        "prop_missing = missing_count / total\n",
        "print(f\"{prop_missing:.2%}\")\n",
        "# This is concerning becayse a majority of observations don't record\n",
        "# whether the subject was injured. This makes the variable highly incomplete.\n",
        "\n",
        "#cross tabulate\n",
        "ct = pd.crosstab(df[\"subject_injury\"], df[\"force_type\"], dropna=False)\n",
        "print(ct)\n",
        "# A cross-tabulation of subject_injury with force_type shows that most missing\n",
        "# values occur in incidents coded as Bodily Force and Chemical Irritant, while\n",
        "# categories like Police K9 Bite and Taser tend to have injury outcomes more\n",
        "#consistently recorded. In fact, for some force types (Maximal Restraint Technique),\n",
        "# all injury outcomes are missing.\n",
        "#this pattern indicates that nan likely reflects differences in reporting\n",
        "#practices by force type rather than random omissions. As a result, conclusions\n",
        "#drawn about injuries may underestimate injuries for certain categories of force."
      ],
      "metadata": {
        "colab": {
          "base_uri": "https://localhost:8080/"
        },
        "id": "l1BcVToKa6WK",
        "outputId": "46b077bd-388f-4adf-bb6e-40f347a82d39"
      },
      "id": "l1BcVToKa6WK",
      "execution_count": null,
      "outputs": [
        {
          "output_type": "stream",
          "name": "stdout",
          "text": [
            "[nan 'No' 'Yes'] \n",
            "\n",
            "76.19%\n",
            "force_type      Baton  Bodily Force  Chemical Irritant  Firearm  \\\n",
            "subject_injury                                                    \n",
            "No                  0          1093                131        2   \n",
            "Yes                 2          1286                 41        0   \n",
            "NaN                 2          7051               1421        0   \n",
            "\n",
            "force_type      Gun Point Display  Improvised Weapon  Less Lethal  \\\n",
            "subject_injury                                                      \n",
            "No                             33                 34            0   \n",
            "Yes                            44                 40            0   \n",
            "NaN                            27                 74           87   \n",
            "\n",
            "force_type      Less Lethal Projectile  Maximal Restraint Technique  \\\n",
            "subject_injury                                                        \n",
            "No                                   1                            0   \n",
            "Yes                                  2                            0   \n",
            "NaN                                  0                          170   \n",
            "\n",
            "force_type      Police K9 Bite  Taser  \n",
            "subject_injury                         \n",
            "No                           2    150  \n",
            "Yes                         44    172  \n",
            "NaN                         31    985  \n"
          ]
        }
      ]
    },
    {
      "cell_type": "code",
      "source": [
        "#question 3\n",
        "import numpy as np\n",
        "import matplotlib.pyplot as plt\n",
        "import pandas as pd\n",
        "\n",
        "#load data\n",
        "url = 'http://www.vcsc.virginia.gov/pretrialdataproject/October%202017%20Cohort_Virginia%20Pretrial%20Data%20Project_Deidentified%20FINAL%20Update_10272021.csv'\n",
        "df = pd.read_csv(url,low_memory=False) # Pandas downloads and loads the .csv file for you\n",
        "df.head()\n",
        "\n",
        "# Step 1: Look at unique values\n",
        "var = 'WhetherDefendantWasReleasedPretrial' # A Dummy Example\n",
        "\n",
        "# Step 2: Replace explicit \"missing\" codes with NaN\n",
        "df[var] = df[var].replace([9, 99, \"NA\", \"na\", \"missing\", \"unknown\", \"\"], np.nan)\n",
        "\n",
        "# Step 3: Standardize Yes/No or 1/0 if present\n",
        "df[var] = df[var].replace({\n",
        "    \"Yes\": 1, \"yes\": 1, \"1\": 1,\n",
        "    \"No\": 0, \"no\": 0, \"0\": 0\n",
        "})\n",
        "\n",
        "# Step 4: Force to numeric (allows NaN)\n",
        "df[var] = pd.to_numeric(df[var], errors=\"coerce\")\n",
        "\n",
        "# Step 5: Check results\n",
        "print(df[var].value_counts(dropna=False))\n",
        "print(df[var].unique())\n"
      ],
      "metadata": {
        "colab": {
          "base_uri": "https://localhost:8080/"
        },
        "id": "U3c4yDykX_wp",
        "outputId": "34d40cd4-2ac5-4412-9b6c-f66b2c38afbb"
      },
      "id": "U3c4yDykX_wp",
      "execution_count": 1,
      "outputs": [
        {
          "output_type": "stream",
          "name": "stdout",
          "text": [
            "WhetherDefendantWasReleasedPretrial\n",
            "1.0    19154\n",
            "0.0     3801\n",
            "NaN       31\n",
            "Name: count, dtype: int64\n",
            "[nan  0.  1.]\n"
          ]
        }
      ]
    },
    {
      "cell_type": "code",
      "source": [
        "#question 4\n",
        "\n",
        "import numpy as np\n",
        "import matplotlib.pyplot as plt\n",
        "import pandas as pd\n",
        "\n",
        "#load data\n",
        "url = 'http://www.vcsc.virginia.gov/pretrialdataproject/October%202017%20Cohort_Virginia%20Pretrial%20Data%20Project_Deidentified%20FINAL%20Update_10272021.csv'\n",
        "df = pd.read_csv(url,low_memory=False) # Pandas downloads and loads the .csv file for you\n",
        "df.head()\n",
        "\n",
        "var1 = \"ImposedSentenceAllChargeInContactEvent\"\n",
        "var2 = \"SentenceTypeAllChargesAtConvictionInContactEvent\"\n",
        "\n",
        "print(df[var1].unique()[:20])   # first 20 unique values\n",
        "print(df[var2].unique()[:20])\n",
        "\n",
        "# Replace blanks with NaN\n",
        "df[var1] = df[var1].replace(\" \", np.nan)\n",
        "\n",
        "# Convert to numeric\n",
        "df[var1] = pd.to_numeric(df[var1], errors=\"coerce\")\n",
        "\n",
        "pd.crosstab(df[var2], df[var1].isna(), margins=True)\n",
        "\n",
        "print(df[var1].describe())\n",
        "\n"
      ],
      "metadata": {
        "colab": {
          "base_uri": "https://localhost:8080/"
        },
        "id": "gQmTpm4JvwR5",
        "outputId": "f0d7bbf3-c726-4443-d664-dcfa1844b835"
      },
      "id": "gQmTpm4JvwR5",
      "execution_count": 7,
      "outputs": [
        {
          "output_type": "stream",
          "name": "stdout",
          "text": [
            "[' ' '60' '12' '.985626283367556' '36' '6' '24' '5.91375770020534' '120'\n",
            " '72' '11.9917864476386' '0' '2.95687885010267' '84' '108' '300' '240'\n",
            " '180' '4' '96']\n",
            "[9 0 1 4 2]\n",
            "count    13933.000000\n",
            "mean        19.899671\n",
            "std         63.571627\n",
            "min          0.000000\n",
            "25%          0.000000\n",
            "50%          2.000000\n",
            "75%         12.000000\n",
            "max       2208.000000\n",
            "Name: ImposedSentenceAllChargeInContactEvent, dtype: float64\n"
          ]
        }
      ]
    },
    {
      "cell_type": "markdown",
      "id": "5a60a44e",
      "metadata": {
        "id": "5a60a44e"
      },
      "source": [
        "**Q2.** Go to https://sharkattackfile.net/ and download their dataset on shark attacks (Hint: `GSAF5.xls`).\n",
        "\n",
        "1. Open the shark attack file using Pandas. It is probably not a csv file, so `read_csv` won't work.\n",
        "2. Drop any columns that do not contain data.\n",
        "3. Clean the year variable. Describe the range of values you see. Filter the rows to focus on attacks since 1940. Are attacks increasing, decreasing, or remaining constant over time?\n",
        "4. Clean the Age variable and make a histogram of the ages of the victims.\n",
        "5. What proportion of victims are male?\n",
        "6. Clean the `Type` variable so it only takes three values: Provoked and Unprovoked and Unknown. What proportion of attacks are unprovoked?\n",
        "7. Clean the `Fatal Y/N` variable so it only takes three values: Y, N, and Unknown.\n",
        "8. Are sharks more likely to launch unprovoked attacks on men or women? Is the attack more or less likely to be fatal when the attack is provoked or unprovoked? Is it more or less likely to be fatal when the victim is male or female? How do you feel about sharks?\n",
        "9. What proportion of attacks appear to be by white sharks? (Hint: `str.split()` makes a vector of text values into a list of lists, split by spaces.)"
      ]
    },
    {
      "cell_type": "code",
      "execution_count": 13,
      "id": "a3f03830",
      "metadata": {
        "id": "a3f03830",
        "colab": {
          "base_uri": "https://localhost:8080/"
        },
        "outputId": "cfce792c-7c58-48b2-b645-6f1df3b5ceb1"
      },
      "outputs": [
        {
          "output_type": "stream",
          "name": "stdout",
          "text": [
            "               Date    Year        Type      Country  \\\n",
            "0  16th August 2025  2025.0    Provoked          USA   \n",
            "1       18th August  2025.0  Unprovoked    Australia   \n",
            "2       17th August  2025.0  Unprovoked      Bahamas   \n",
            "3        7th August  2025.0  Unprovoked    Australia   \n",
            "4        1st August  2025.0  Unprovoked  Puerto Rico   \n",
            "\n",
            "                               State                             Location  \\\n",
            "0                            Florida               Cayo Costa Boca Grande   \n",
            "1                                NSW                       Cabarita Beach   \n",
            "2  Atlantic Ocean near Big Grand Cay  North of Grand Bahama near Freeport   \n",
            "3                                NSW                        Tathra Beach    \n",
            "4                           Carolina                       Carolina Beach   \n",
            "\n",
            "       Activity          Name Sex Age  ...                 Species   \\\n",
            "0       Fishing   Shawn Meuse   M   ?  ...  Lemon shark 1.8 m (6ft)   \n",
            "1       Surfing     Brad Ross   M   ?  ...  5m (16.5ft) Great White   \n",
            "2  Spearfishing    Not stated   M  63  ...             Undetermined   \n",
            "3       Surfing   Bowie Daley   M   9  ...    Suspected Great White   \n",
            "4        Wading  Eleonora Boi   F  39  ...             Undetermined   \n",
            "\n",
            "                                              Source  pdf href formula href  \\\n",
            "0  Johannes Marchand: Kevin McMurray Trackingshar...  NaN          NaN  NaN   \n",
            "1  Bob Myatt GSAF The Guardian: 9 News: ABS News:...  NaN          NaN  NaN   \n",
            "2  Ralph Collier GSAF and Kevin MCMurray Tracking...  NaN          NaN  NaN   \n",
            "3                                     Bob Myatt GSAF  NaN          NaN  NaN   \n",
            "4         Kevin McMurray Trackingsharks.com: NY Post  NaN          NaN  NaN   \n",
            "\n",
            "  Case Number Case Number.1 original order Unnamed: 21 Unnamed: 22  \n",
            "0         NaN           NaN            NaN         NaN         NaN  \n",
            "1         NaN           NaN            NaN         NaN         NaN  \n",
            "2         NaN           NaN            NaN         NaN         NaN  \n",
            "3         NaN           NaN            NaN         NaN         NaN  \n",
            "4         NaN           NaN            NaN         NaN         NaN  \n",
            "\n",
            "[5 rows x 23 columns]\n"
          ]
        }
      ],
      "source": [
        "#question 1\n",
        "import numpy as np\n",
        "import matplotlib.pyplot as plt\n",
        "import pandas as pd\n",
        "\n",
        "df = pd.read_excel(\"GSAF5.xls\", engine=\"xlrd\")\n",
        "print(df.head())"
      ]
    },
    {
      "cell_type": "code",
      "source": [
        "#question 2\n",
        "import numpy as np\n",
        "import matplotlib.pyplot as plt\n",
        "import pandas as pd\n",
        "# Drop columns where ALL values are missing\n",
        "df = df.dropna(axis=1, how=\"all\")\n",
        "\n",
        "print(df.shape)   # check new shape\n",
        "print(df.columns) # see remaining columns\n",
        "df.info()"
      ],
      "metadata": {
        "colab": {
          "base_uri": "https://localhost:8080/"
        },
        "id": "qEc9SmQx2s2R",
        "outputId": "2ba9b6bf-a7c4-40db-897d-ee0624999fe5"
      },
      "id": "qEc9SmQx2s2R",
      "execution_count": 15,
      "outputs": [
        {
          "output_type": "stream",
          "name": "stdout",
          "text": [
            "(7042, 23)\n",
            "Index(['Date', 'Year', 'Type', 'Country', 'State', 'Location', 'Activity',\n",
            "       'Name', 'Sex', 'Age', 'Injury', 'Fatal Y/N', 'Time', 'Species ',\n",
            "       'Source', 'pdf', 'href formula', 'href', 'Case Number', 'Case Number.1',\n",
            "       'original order', 'Unnamed: 21', 'Unnamed: 22'],\n",
            "      dtype='object')\n",
            "<class 'pandas.core.frame.DataFrame'>\n",
            "RangeIndex: 7042 entries, 0 to 7041\n",
            "Data columns (total 23 columns):\n",
            " #   Column          Non-Null Count  Dtype  \n",
            "---  ------          --------------  -----  \n",
            " 0   Date            7042 non-null   object \n",
            " 1   Year            7040 non-null   float64\n",
            " 2   Type            7024 non-null   object \n",
            " 3   Country         6992 non-null   object \n",
            " 4   State           6557 non-null   object \n",
            " 5   Location        6475 non-null   object \n",
            " 6   Activity        6457 non-null   object \n",
            " 7   Name            6823 non-null   object \n",
            " 8   Sex             6463 non-null   object \n",
            " 9   Age             4048 non-null   object \n",
            " 10  Injury          7007 non-null   object \n",
            " 11  Fatal Y/N       6481 non-null   object \n",
            " 12  Time            3516 non-null   object \n",
            " 13  Species         3911 non-null   object \n",
            " 14  Source          7022 non-null   object \n",
            " 15  pdf             6799 non-null   object \n",
            " 16  href formula    6794 non-null   object \n",
            " 17  href            6796 non-null   object \n",
            " 18  Case Number     6798 non-null   object \n",
            " 19  Case Number.1   6797 non-null   object \n",
            " 20  original order  6799 non-null   float64\n",
            " 21  Unnamed: 21     1 non-null      object \n",
            " 22  Unnamed: 22     2 non-null      object \n",
            "dtypes: float64(2), object(21)\n",
            "memory usage: 1.2+ MB\n"
          ]
        }
      ]
    },
    {
      "cell_type": "code",
      "source": [
        "#question 3\n",
        "import numpy as np\n",
        "import matplotlib.pyplot as plt\n",
        "import pandas as pd\n",
        "\n",
        "# Convert to numeric (non-numeric entries → NaN)\n",
        "df[\"Year\"] = pd.to_numeric(df[\"Year\"], errors=\"coerce\")\n",
        "\n",
        "# Drop rows with missing year\n",
        "df = df.dropna(subset=[\"Year\"])\n",
        "\n",
        "# Force to integer\n",
        "df[\"Year\"] = df[\"Year\"].astype(int)\n",
        "\n",
        "#descrive the range of values\n",
        "print(df[\"Year\"].min(), df[\"Year\"].max())\n",
        "print(df[\"Year\"].describe())\n",
        "\n",
        "#filter since 1940\n",
        "df_recent = df[df[\"Year\"] >= 1940]\n",
        "print(df_recent[\"Year\"].min(), df_recent[\"Year\"].max())\n",
        "\n",
        "#count attacks per year\n",
        "attacks_per_year = df_recent[\"Year\"].value_counts().sort_index()\n",
        "print(attacks_per_year.head())\n",
        "\n",
        "#plot trends\n",
        "attacks_per_year.plot(kind=\"line\", figsize=(10,5), title=\"Shark Attacks per Year Since 1940\")\n",
        "plt.xlabel(\"Year\")\n",
        "plt.ylabel(\"Number of Attacks\")\n",
        "plt.show()\n",
        "\n",
        "#conclusion: shark attack rates flucuated from 1940-2010,\n",
        "#first increasing, then decreasing, then increasing again.\n",
        "#Then there was a sharp drop off after about 2010."
      ],
      "metadata": {
        "colab": {
          "base_uri": "https://localhost:8080/",
          "height": 808
        },
        "id": "sb3hqkzx5RTd",
        "outputId": "dcbca975-ba2b-4ffb-a199-b216af1ea27c"
      },
      "id": "sb3hqkzx5RTd",
      "execution_count": 20,
      "outputs": [
        {
          "output_type": "stream",
          "name": "stdout",
          "text": [
            "0 2026\n",
            "count    7040.000000\n",
            "mean     1935.621449\n",
            "std       271.221061\n",
            "min         0.000000\n",
            "25%      1948.000000\n",
            "50%      1986.000000\n",
            "75%      2010.000000\n",
            "max      2026.000000\n",
            "Name: Year, dtype: float64\n",
            "1940 2026\n",
            "Year\n",
            "1940    24\n",
            "1941    27\n",
            "1942    41\n",
            "1943    28\n",
            "1944    31\n",
            "Name: count, dtype: int64\n"
          ]
        },
        {
          "output_type": "display_data",
          "data": {
            "text/plain": [
              "<Figure size 1000x500 with 1 Axes>"
            ],
            "image/png": "[encoded data removed]"
          },
          "metadata": {}
        }
      ]
    },
    {
      "cell_type": "code",
      "source": [
        "#question 4\n",
        "import numpy as np\n",
        "import matplotlib.pyplot as plt\n",
        "import pandas as pd\n",
        "\n",
        "print(df[\"Age\"].unique()[:50])   # peek at some values\n",
        "\n",
        "# Replace '?' with NaN, remove '+' signs, and convert to numeric\n",
        "df[\"Age_clean\"] = (\n",
        "    df[\"Age\"]\n",
        "      .astype(str)              # ensure strings\n",
        "      .str.strip()              # remove spaces\n",
        "      .str.replace(\"+\", \"\", regex=False)  # drop plus signs\n",
        "      .replace(\"?\", np.nan)     # mark ? as missing\n",
        ")\n",
        "\n",
        "# Convert everything else to numbers\n",
        "df[\"Age_clean\"] = pd.to_numeric(df[\"Age_clean\"], errors=\"coerce\")\n",
        "\n",
        "#histogram\n",
        "df[\"Age_clean\"].dropna().hist(bins=30, edgecolor=\"black\")\n",
        "plt.xlabel(\"Age\")\n",
        "plt.ylabel(\"Number of Victims\")\n",
        "plt.title(\"Distribution of Shark Attack Victim Ages\")\n",
        "plt.show()"
      ],
      "metadata": {
        "colab": {
          "base_uri": "https://localhost:8080/",
          "height": 526
        },
        "id": "Wcuy5PUE6fZZ",
        "outputId": "66cb1f91-dee0-4db8-b509-29866bf6f76d"
      },
      "id": "Wcuy5PUE6fZZ",
      "execution_count": 23,
      "outputs": [
        {
          "output_type": "stream",
          "name": "stdout",
          "text": [
            "['?' '63' '9' '39' '19' '7' '85' '69' '18' '66' '21' '40' '37' '16' '20'\n",
            " '12' '42' '26' '14' '45' '30' '30+' '56' '40+' '29' 35 58 29 24 20 55 17\n",
            " 12 37 36 23 40 28 69 48 '60+' 57 45 61 27 38 16 68 33 30]\n"
          ]
        },
        {
          "output_type": "display_data",
          "data": {
            "text/plain": [
              "<Figure size 640x480 with 1 Axes>"
            ],
            "image/png": "[encoded data removed]"
          },
          "metadata": {}
        }
      ]
    },
    {
      "cell_type": "code",
      "source": [
        "#question 5\n",
        "import numpy as np\n",
        "import matplotlib.pyplot as plt\n",
        "import pandas as pd\n",
        "\n",
        "print(df[\"Sex\"].unique())\n",
        "print(df[\"Sex\"].value_counts(dropna=False))\n",
        "\n",
        "#clean the sex variable\n",
        "df[\"Sex_clean\"] = (\n",
        "    df[\"Sex\"]\n",
        "      .astype(str).str.strip().str.upper()  # remove spaces + standardize\n",
        "      .replace({\n",
        "          \"M\": \"M\",\n",
        "          \"F\": \"F\",\n",
        "          \"M X 2\": \"M\",   # assume multiple men → count as male\n",
        "          \"N\": np.nan,\n",
        "          \"LLI\": np.nan,\n",
        "          \".\": np.nan,\n",
        "          \"\": np.nan,\n",
        "          \"NAN\": np.nan\n",
        "      })\n",
        ")\n",
        "\n",
        "print(df[\"Sex_clean\"].value_counts(dropna=False))\n",
        "\n",
        "#proportion of male victims\n",
        "male_count = (df[\"Sex_clean\"] == \"M\").sum()\n",
        "female_count = (df[\"Sex_clean\"] == \"F\").sum()\n",
        "total_known = male_count + female_count\n",
        "\n",
        "prop_male = male_count / total_known if total_known > 0 else np.nan\n",
        "\n",
        "print(f\"Male victims: {male_count}\")\n",
        "print(f\"Female victims: {female_count}\")\n",
        "print(f\"Proportion male: {prop_male:.2%}\")\n"
      ],
      "metadata": {
        "colab": {
          "base_uri": "https://localhost:8080/"
        },
        "id": "kIWkmeW29Hpn",
        "outputId": "1a50e22a-c71c-465f-a3f6-fd221a330cae"
      },
      "id": "kIWkmeW29Hpn",
      "execution_count": 28,
      "outputs": [
        {
          "output_type": "stream",
          "name": "stdout",
          "text": [
            "['M' 'F' 'F ' 'M ' nan ' M' 'm' 'lli' 'M x 2' 'N' '.']\n",
            "Sex\n",
            "M        5645\n",
            "F         804\n",
            "NaN       579\n",
            "M           3\n",
            "F           2\n",
            "N           2\n",
            " M          1\n",
            "m           1\n",
            "lli         1\n",
            "M x 2       1\n",
            ".           1\n",
            "Name: count, dtype: int64\n",
            "Sex_clean\n",
            "M      5651\n",
            "F       806\n",
            "NaN     583\n",
            "Name: count, dtype: int64\n",
            "Male victims: 5651\n",
            "Female victims: 806\n",
            "Proportion male: 87.52%\n"
          ]
        }
      ]
    }
  ],
  "metadata": {
    "colab": {
      "provenance": []
    },
    "kernelspec": {
      "display_name": "Python 3 (ipykernel)",
      "language": "python",
      "name": "python3"
    },
    "language_info": {
      "codemirror_mode": {
        "name": "ipython",
        "version": 3
      },
      "file_extension": ".py",
      "mimetype": "text/x-python",
      "name": "python",
      "nbconvert_exporter": "python",
      "pygments_lexer": "ipython3",
      "version": "3.10.18"
    }
  },
  "nbformat": 4,
  "nbformat_minor": 5
}